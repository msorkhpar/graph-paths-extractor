{
 "cells": [
  {
   "cell_type": "code",
   "execution_count": 1,
   "metadata": {
    "ExecuteTime": {
     "end_time": "2023-06-28T23:37:19.738770630Z",
     "start_time": "2023-06-28T23:37:10.562630688Z"
    }
   },
   "outputs": [
    {
     "name": "stdout",
     "output_type": "stream",
     "text": [
      "Requirement already satisfied: opencv-python in /home/mks/anaconda3/lib/python3.9/site-packages (4.7.0.72)\n",
      "Requirement already satisfied: numpy>=1.17.3 in /home/mks/anaconda3/lib/python3.9/site-packages (from opencv-python) (1.21.5)\n",
      "Requirement already satisfied: networkx in /home/mks/anaconda3/lib/python3.9/site-packages (2.8.4)\n",
      "Requirement already satisfied: numpy in /home/mks/anaconda3/lib/python3.9/site-packages (1.21.5)\n",
      "Requirement already satisfied: matplotlib in /home/mks/anaconda3/lib/python3.9/site-packages (3.5.3)\n",
      "Requirement already satisfied: packaging>=20.0 in /home/mks/anaconda3/lib/python3.9/site-packages (from matplotlib) (21.3)\n",
      "Requirement already satisfied: fonttools>=4.22.0 in /home/mks/anaconda3/lib/python3.9/site-packages (from matplotlib) (4.25.0)\n",
      "Requirement already satisfied: cycler>=0.10 in /home/mks/anaconda3/lib/python3.9/site-packages (from matplotlib) (0.11.0)\n",
      "Requirement already satisfied: numpy>=1.17 in /home/mks/anaconda3/lib/python3.9/site-packages (from matplotlib) (1.21.5)\n",
      "Requirement already satisfied: pillow>=6.2.0 in /home/mks/anaconda3/lib/python3.9/site-packages (from matplotlib) (9.2.0)\n",
      "Requirement already satisfied: python-dateutil>=2.7 in /home/mks/anaconda3/lib/python3.9/site-packages (from matplotlib) (2.8.2)\n",
      "Requirement already satisfied: pyparsing>=2.2.1 in /home/mks/anaconda3/lib/python3.9/site-packages (from matplotlib) (3.0.9)\n",
      "Requirement already satisfied: kiwisolver>=1.0.1 in /home/mks/anaconda3/lib/python3.9/site-packages (from matplotlib) (1.4.2)\n",
      "Requirement already satisfied: six>=1.5 in /home/mks/anaconda3/lib/python3.9/site-packages (from python-dateutil>=2.7->matplotlib) (1.16.0)\n"
     ]
    }
   ],
   "source": [
    "import sys\n",
    "!{sys.executable} -m pip install opencv-python\n",
    "!{sys.executable} -m pip install networkx\n",
    "!{sys.executable} -m pip install numpy\n",
    "!{sys.executable} -m pip install matplotlib\n"
   ]
  },
  {
   "cell_type": "code",
   "execution_count": 2,
   "metadata": {
    "ExecuteTime": {
     "end_time": "2023-06-28T23:37:19.744442340Z",
     "start_time": "2023-06-28T23:37:19.741859229Z"
    }
   },
   "outputs": [],
   "source": [
    "import cv2\n",
    "import networkx as nx\n",
    "import numpy as np\n",
    "from matplotlib import pyplot as plt\n"
   ]
  },
  {
   "cell_type": "code",
   "execution_count": 3,
   "metadata": {
    "ExecuteTime": {
     "end_time": "2023-06-28T23:37:20.777522597Z",
     "start_time": "2023-06-28T23:37:20.773796498Z"
    }
   },
   "outputs": [],
   "source": [
    "def find_paths(graph):\n",
    "    components = nx.connected_components(graph)\n",
    "    paths = {}\n",
    "    for c in components:\n",
    "        component = graph.subgraph(c)\n",
    "        start = next(filter(lambda node: component.degree(node) != 2, component.nodes), None)\n",
    "        if start is None:\n",
    "            start = next(iter(component.nodes))\n",
    "        stack: list[any, tuple[any, any]] = []\n",
    "        visited = set()\n",
    "        for start_neighbor in component.neighbors(start):\n",
    "            stack.append((start_neighbor, (start, start_neighbor)))\n",
    "            paths[(start, start_neighbor)] = []\n",
    "        visited.add(start)\n",
    "\n",
    "        while stack:\n",
    "            node, path_name = stack.pop()\n",
    "            branch_parent = path_name[0]\n",
    "\n",
    "            if node not in visited:\n",
    "                if not paths.get(path_name, None):\n",
    "                    paths[path_name] = [branch_parent]\n",
    "\n",
    "                visited.add(node)\n",
    "                paths[path_name].append(node)\n",
    "                new_branch = False\n",
    "\n",
    "                # if we reached to a none-degree two node, save the existing path\n",
    "                # and continue with a new branch of this node's neighbors\n",
    "                if len(paths[path_name]) > 1 and component.degree(node) != 2:\n",
    "                    new_branch = True\n",
    "\n",
    "                # if we are not going to change to a new branch continue visiting the neighbors\n",
    "                if new_branch:\n",
    "                    # if we are going to save the path and change the branch\n",
    "                    # put the neighbors into the stack with a path starting from current node\n",
    "                    for neighbor in component.neighbors(node):\n",
    "                        if neighbor not in visited:\n",
    "                            stack.append((neighbor, (node, neighbor)))\n",
    "\n",
    "                else:\n",
    "                    for neighbor in component.neighbors(node):\n",
    "                        stack.append((neighbor, path_name))\n",
    "\n",
    "            else:\n",
    "                # if there is a cycle of len 3 or more add it to the result\n",
    "                if path_name in paths and len(paths[path_name]) > 1 and component.degree(node) != 2 \\\n",
    "                        and component.degree(paths[path_name][-1]) == 2:\n",
    "                    if len(paths[path_name]) == 2 and node == branch_parent:\n",
    "                        continue\n",
    "                    if node in list(component.neighbors(paths[path_name][-1])):\n",
    "                        paths[path_name].append(node)\n",
    "    return {key: path for key, path in paths.items() if len(path) > 1}\n",
    "\n"
   ]
  },
  {
   "cell_type": "code",
   "execution_count": 4,
   "metadata": {
    "ExecuteTime": {
     "end_time": "2023-06-28T23:39:38.778437028Z",
     "start_time": "2023-06-28T23:39:38.626867683Z"
    }
   },
   "outputs": [
    {
     "data": {
      "image/png": "[encoded data removed]",
      "text/plain": [
       "<Figure size 640x480 with 1 Axes>"
      ]
     },
     "metadata": {},
     "output_type": "display_data"
    },
    {
     "name": "stdout",
     "output_type": "stream",
     "text": [
      "A, B, C, \n",
      "C, Q, P, O, \n",
      "O, R, \n",
      "O, N, M, L, \n",
      "L, S, \n",
      "L, K, J, I, H, G, F, E, D, C, \n"
     ]
    }
   ],
   "source": [
    "\n",
    "graph = nx.Graph()\n",
    "graph.add_edges_from([\n",
    "    ((0, 0), (100, 0)),\n",
    "    ((100, 0), (200, 0)),\n",
    "    ((200, 0), (300, 0)),\n",
    "    ((300, 0), (400, 0)),\n",
    "    ((400, 0), (500, 0)),\n",
    "    ((500, 0), (600, 100)),\n",
    "    ((600, 100), (700, 200)),\n",
    "    ((700, 200), (800, 400)),\n",
    "    ((800, 400), (700, 500)),\n",
    "    ((700, 500), (600, 600)),\n",
    "    ((600, 600), (500, 700)),\n",
    "    ((500, 700), (400, 700)),\n",
    "    ((400, 700), (300, 700)),\n",
    "    ((300, 700), (200, 700)),\n",
    "    ((200, 700), (200, 500)),\n",
    "    ((200, 500), (200, 200)),\n",
    "    ((200, 200), (200, 0)),\n",
    "    ((200, 700), (200, 800)),\n",
    "    ((500, 700), (600, 800))\n",
    "])\n",
    "\n",
    "texts = {}\n",
    "for index, node in enumerate(graph.nodes()):\n",
    "    texts.update({node: chr(ord('A') + index)})\n",
    "\n",
    "\n",
    "output = np.ones((900, 900, 3), np.uint8) * 255\n",
    "\n",
    "# Draw edges\n",
    "for u, v in graph.edges:\n",
    "    x1, y1 = u\n",
    "    x2, y2 = v\n",
    "    cv2.line(output, (x1, y1), (x2, y2), (0, 0, 0), 1)\n",
    "for x, y in graph.nodes:\n",
    "    cv2.circle(output, (x, y,), 2, (0, 0, 255), -1)\n",
    "\n",
    "for point, text in texts.items():\n",
    "    cv2.putText(output, str(text), (point[0] + 5, point[1] + 30), cv2.FONT_HERSHEY_SIMPLEX, 1, (0, 0, 0), 1,\n",
    "                cv2.LINE_AA)\n",
    "\n",
    "plt.xticks([]), plt.yticks([])\n",
    "plt.imshow(output)\n",
    "plt.show()\n",
    "\n",
    "\n",
    "\n",
    "paths = find_paths(graph)\n",
    "for path in paths.values():\n",
    "    for p in path:\n",
    "        print(texts[p], end=\", \")\n",
    "    print()\n"
   ]
  }
 ],
 "metadata": {
  "kernelspec": {
   "display_name": "Python 3 (ipykernel)",
   "language": "python",
   "name": "python3"
  },
  "language_info": {
   "codemirror_mode": {
    "name": "ipython",
    "version": 3
   },
   "file_extension": ".py",
   "mimetype": "text/x-python",
   "name": "python",
   "nbconvert_exporter": "python",
   "pygments_lexer": "ipython3",
   "version": "3.9.15"
  }
 },
 "nbformat": 4,
 "nbformat_minor": 1
}
